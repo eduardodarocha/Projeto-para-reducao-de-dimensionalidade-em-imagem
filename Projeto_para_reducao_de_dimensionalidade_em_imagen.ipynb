{
  "nbformat": 4,
  "nbformat_minor": 0,
  "metadata": {
    "colab": {
      "provenance": [],
      "authorship_tag": "ABX9TyMrPyDakOLJkgpjIkXxYpDT",
      "include_colab_link": true
    },
    "kernelspec": {
      "name": "python3",
      "display_name": "Python 3"
    },
    "language_info": {
      "name": "python"
    }
  },
  "cells": [
    {
      "cell_type": "markdown",
      "metadata": {
        "id": "view-in-github",
        "colab_type": "text"
      },
      "source": [
        "<a href=\"https://colab.research.google.com/github/eduardodarocha/Projeto-para-reducao-de-dimensionalidade-em-imagem/blob/main/Projeto_para_reducao_de_dimensionalidade_em_imagen.ipynb\" target=\"_parent\"><img src=\"https://colab.research.google.com/assets/colab-badge.svg\" alt=\"Open In Colab\"/></a>"
      ]
    },
    {
      "cell_type": "code",
      "execution_count": 2,
      "metadata": {
        "id": "GockeDfmEQtF"
      },
      "outputs": [],
      "source": [
        "from PIL import Image\n",
        "\n",
        "def rgb_to_grayscale(r, g, b):\n",
        "    # Fórmula perceptual para converter RGB em cinza\n",
        "    return int(0.299 * r + 0.587 * g + 0.114 * b)\n",
        "\n",
        "def process_png_image(input_path, gray_output, binary_output, threshold=128):\n",
        "    # Carrega a imagem PNG\n",
        "    img = Image.open(input_path).convert(\"RGB\")\n",
        "    width, height = img.size\n",
        "\n",
        "    # Cria imagens de saída\n",
        "    gray_img = Image.new(\"RGB\", (width, height))\n",
        "    binary_img = Image.new(\"RGB\", (width, height))\n",
        "\n",
        "    # Processa pixel por pixel\n",
        "    for y in range(height):\n",
        "        for x in range(width):\n",
        "            r, g, b = img.getpixel((x, y))\n",
        "            gray = rgb_to_grayscale(r, g, b)\n",
        "\n",
        "            # Tons de cinza\n",
        "            gray_img.putpixel((x, y), (gray, gray, gray))\n",
        "\n",
        "            # Binarização\n",
        "            bin_val = 255 if gray >= threshold else 0\n",
        "            binary_img.putpixel((x, y), (bin_val, bin_val, bin_val))\n",
        "\n",
        "    # Salva as imagens\n",
        "    gray_img.save(gray_output)\n",
        "    binary_img.save(binary_output)\n",
        "\n",
        "# 🧪 Teste com lena.png\n",
        "process_png_image(\n",
        "    input_path=\"/content/Lena.png\",              # Imagem original\n",
        "    gray_output=\"lena_gray.png\",        # Imagem em tons de cinza\n",
        "    binary_output=\"lena_binary.png\",    # Imagem binarizada\n",
        "    threshold=128\n",
        ")\n"
      ]
    },
    {
      "cell_type": "code",
      "source": [
        "!wget https://raw.githubusercontent.com/SEU_USUARIO/SEU_REPOSITORIO/main/images/lena.png -O lena.png\n"
      ],
      "metadata": {
        "id": "C55H65ofLDi6"
      },
      "execution_count": null,
      "outputs": []
    }
  ]
}