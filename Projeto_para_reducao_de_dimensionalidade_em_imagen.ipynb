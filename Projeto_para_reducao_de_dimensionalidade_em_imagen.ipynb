{
  "nbformat": 4,
  "nbformat_minor": 0,
  "metadata": {
    "colab": {
      "provenance": [],
      "authorship_tag": "ABX9TyMxqbDzAXptE9W9xt/9HZR5",
      "include_colab_link": true
    },
    "kernelspec": {
      "name": "python3",
      "display_name": "Python 3"
    },
    "language_info": {
      "name": "python"
    }
  },
  "cells": [
    {
      "cell_type": "markdown",
      "metadata": {
        "id": "view-in-github",
        "colab_type": "text"
      },
      "source": [
        "<a href=\"https://colab.research.google.com/github/eduardodarocha/Projeto-para-reducao-de-dimensionalidade-em-imagem/blob/main/Projeto_para_reducao_de_dimensionalidade_em_imagen.ipynb\" target=\"_parent\"><img src=\"https://colab.research.google.com/assets/colab-badge.svg\" alt=\"Open In Colab\"/></a>"
      ]
    },
    {
      "cell_type": "code",
      "source": [
        "# Faz o download da imagem de teste da Lena\n",
        "!wget https://raw.githubusercontent.com/eduardodarocha/Projeto-para-reducao-de-dimensionalidade-em-imagem/refs/heads/main/Lena.png -O lena.png  && echo \"Download completo\"\n"
      ],
      "metadata": {
        "colab": {
          "base_uri": "https://localhost:8080/"
        },
        "id": "wcM9vTUsNzYv",
        "outputId": "6563c6f5-ae99-44ab-c9af-06368923b4d8"
      },
      "execution_count": 17,
      "outputs": [
        {
          "output_type": "stream",
          "name": "stdout",
          "text": [
            "--2025-08-15 14:55:36--  https://raw.githubusercontent.com/eduardodarocha/Projeto-para-reducao-de-dimensionalidade-em-imagem/refs/heads/main/Lena.png\n",
            "Resolving raw.githubusercontent.com (raw.githubusercontent.com)... 185.199.109.133, 185.199.111.133, 185.199.110.133, ...\n",
            "Connecting to raw.githubusercontent.com (raw.githubusercontent.com)|185.199.109.133|:443... connected.\n",
            "HTTP request sent, awaiting response... 200 OK\n",
            "Length: 473831 (463K) [image/png]\n",
            "Saving to: ‘lena.png’\n",
            "\n",
            "\rlena.png              0%[                    ]       0  --.-KB/s               \rlena.png            100%[===================>] 462.73K  --.-KB/s    in 0.05s   \n",
            "\n",
            "2025-08-15 14:55:36 (9.66 MB/s) - ‘lena.png’ saved [473831/473831]\n",
            "\n"
          ]
        }
      ]
    },
    {
      "cell_type": "code",
      "execution_count": 18,
      "metadata": {
        "id": "GockeDfmEQtF"
      },
      "outputs": [],
      "source": [
        "from PIL import Image\n",
        "\n",
        "def rgb_to_grayscale(r, g, b):\n",
        "    # Fórmula perceptual para converter RGB em cinza\n",
        "    return int(0.299 * r + 0.587 * g + 0.114 * b)\n",
        "\n",
        "def process_png_image(input_path, gray_output, binary_output, threshold=128):\n",
        "    # Carrega a imagem PNG\n",
        "    img = Image.open(input_path).convert(\"RGB\")\n",
        "    width, height = img.size\n",
        "\n",
        "    # Cria imagens de saída\n",
        "    gray_img = Image.new(\"RGB\", (width, height))\n",
        "    binary_img = Image.new(\"RGB\", (width, height))\n",
        "\n",
        "    # Processa pixel por pixel\n",
        "    for y in range(height):\n",
        "        for x in range(width):\n",
        "            r, g, b = img.getpixel((x, y))\n",
        "            gray = rgb_to_grayscale(r, g, b)\n",
        "\n",
        "            # Tons de cinza\n",
        "            gray_img.putpixel((x, y), (gray, gray, gray))\n",
        "\n",
        "            # Binarização\n",
        "            bin_val = 255 if gray >= threshold else 0\n",
        "            binary_img.putpixel((x, y), (bin_val, bin_val, bin_val))\n",
        "\n",
        "    # Salva as imagens\n",
        "    gray_img.save(gray_output)\n",
        "    binary_img.save(binary_output)\n",
        "\n",
        "\n",
        "# 🧪 Teste com lena.png\n",
        "process_png_image(\n",
        "    input_path=\"/content/lena.png\",              # Imagem original\n",
        "    gray_output=\"lena_gray.png\",        # Imagem em tons de cinza\n",
        "    binary_output=\"lena_binary.png\",    # Imagem binarizada\n",
        "    threshold=128\n",
        ")\n"
      ]
    }
  ]
}